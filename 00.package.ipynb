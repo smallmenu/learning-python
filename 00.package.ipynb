{
 "cells": [
  {
   "cell_type": "code",
   "execution_count": 1,
   "metadata": {
    "pycharm": {
     "name": "#%%\n"
    }
   },
   "outputs": [
    {
     "name": "stdout",
     "output_type": "stream",
     "text": [
      "imported from another module\n",
      "Module1 Class Name:name\n"
     ]
    }
   ],
   "source": [
    "# 导入整个模块，这个模块有 2 个类，使用时需要全路径 modules.Module1（当从一个模块导入很多类时，推荐这种方式）\n",
    "import modules\n",
    "\n",
    "m = modules.Module1('name')\n",
    "m.say()"
   ]
  },
  {
   "cell_type": "code",
   "execution_count": 2,
   "metadata": {
    "pycharm": {
     "name": "#%%\n"
    }
   },
   "outputs": [
    {
     "name": "stdout",
     "output_type": "stream",
     "text": [
      "Module2 Class Name:name\n"
     ]
    }
   ],
   "source": [
    "# from...import 可以导入模块的某个类，这样就可以不用使用全路径\n",
    "from modules import Module2\n",
    "\n",
    "m = Module2('name')\n",
    "m.say()"
   ]
  },
  {
   "cell_type": "code",
   "execution_count": 1,
   "metadata": {
    "pycharm": {
     "name": "#%%\n"
    }
   },
   "outputs": [
    {
     "name": "stdout",
     "output_type": "stream",
     "text": [
      "packages/package.Package Class Name:package\n"
     ]
    }
   ],
   "source": [
    "# 导入模块下级目录的子模块\n",
    "import packages.package\n",
    "\n",
    "c1 = packages.package.Package('package')\n",
    "c1.say()"
   ]
  },
  {
   "cell_type": "code",
   "execution_count": 8,
   "metadata": {
    "pycharm": {
     "name": "#%%\n"
    }
   },
   "outputs": [
    {
     "name": "stdout",
     "output_type": "stream",
     "text": [
      "packages/package.Package Class Name:package\n"
     ]
    }
   ],
   "source": [
    "# 导入模块下级目录的子模块\n",
    "from packages.package import Package\n",
    "\n",
    "c2 = Package('package')\n",
    "c2.say()"
   ]
  },
  {
   "cell_type": "code",
   "execution_count": 2,
   "metadata": {
    "pycharm": {
     "name": "#%%\n"
    }
   },
   "outputs": [
    {
     "name": "stdout",
     "output_type": "stream",
     "text": [
      "packages/a/suba/modulesuba.ModuleSubA Class Name:classpa_sub_a\n"
     ]
    }
   ],
   "source": [
    "# 导入下级多级目录的子模块\n",
    "from packages.a.suba.modulesuba import ModuleSubA\n",
    "c3 = ModuleSubA('classpa_sub_a')\n",
    "c3.say()"
   ]
  },
  {
   "cell_type": "code",
   "execution_count": 3,
   "metadata": {
    "pycharm": {
     "name": "#%%\n"
    }
   },
   "outputs": [
    {
     "name": "stdout",
     "output_type": "stream",
     "text": [
      "['/Users/ncq/Repos/Python/quickstart', '/Users/ncq/.vscode/extensions/ms-toolsai.jupyter-2021.10.1101450599/pythonFiles', '/Users/ncq/.vscode/extensions/ms-toolsai.jupyter-2021.10.1101450599/pythonFiles/lib/python', '/Library/Developer/CommandLineTools/Library/Frameworks/Python3.framework/Versions/3.8/lib/python38.zip', '/Library/Developer/CommandLineTools/Library/Frameworks/Python3.framework/Versions/3.8/lib/python3.8', '/Library/Developer/CommandLineTools/Library/Frameworks/Python3.framework/Versions/3.8/lib/python3.8/lib-dynload', '', '/Users/ncq/Library/Python/3.8/lib/python/site-packages', '/Library/Developer/CommandLineTools/Library/Frameworks/Python3.framework/Versions/3.8/lib/python3.8/site-packages', '/Library/Python/3.8/site-packages', '/Users/ncq/Library/Python/3.8/lib/python/site-packages/IPython/extensions', '/Users/ncq/.ipython', '/Users/ncq/Repos/Python/quickstart/packages/./', '/Users/ncq/Repos/Python/quickstart/packages/b/../']\n",
      "PackagesMain Class Name:name\n",
      "packages/package.Package Class Name:name\n",
      "packages/b/moduleb_main.PackagesModuleBMain Class Name:name\n",
      "packages/a/modulea.ModuleA Class Name:a.name\n",
      "packages/package.Package Class Name:b.name\n"
     ]
    }
   ],
   "source": [
    "import os\n",
    "import sys\n",
    "from packages.packages_main import PackagesMain\n",
    "\n",
    "print(sys.path)\n",
    "c4 = PackagesMain('name')\n",
    "c4.say()"
   ]
  },
  {
   "cell_type": "code",
   "execution_count": null,
   "metadata": {
    "pycharm": {
     "name": "#%%\n"
    }
   },
   "outputs": [],
   "source": []
  }
 ],
 "metadata": {
  "interpreter": {
   "hash": "31f2aee4e71d21fbe5cf8b01ff0e069b9275f58929596ceb00d14d90e3e16cd6"
  },
  "kernelspec": {
   "display_name": "Python 3.8.2 64-bit",
   "name": "python3"
  },
  "language_info": {
   "codemirror_mode": {
    "name": "ipython",
    "version": 3
   },
   "file_extension": ".py",
   "mimetype": "text/x-python",
   "name": "python",
   "nbconvert_exporter": "python",
   "pygments_lexer": "ipython3",
   "version": "3.8.2"
  },
  "orig_nbformat": 2
 },
 "nbformat": 4,
 "nbformat_minor": 2
}