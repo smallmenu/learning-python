{
 "metadata": {
  "language_info": {
   "codemirror_mode": {
    "name": "ipython",
    "version": 3
   },
   "file_extension": ".py",
   "mimetype": "text/x-python",
   "name": "python",
   "nbconvert_exporter": "python",
   "pygments_lexer": "ipython3",
   "version": "3.8.2-final"
  },
  "orig_nbformat": 2,
  "kernelspec": {
   "name": "python3",
   "display_name": "Python 3.8.2 64-bit",
   "metadata": {
    "interpreter": {
     "hash": "31f2aee4e71d21fbe5cf8b01ff0e069b9275f58929596ceb00d14d90e3e16cd6"
    }
   }
  }
 },
 "nbformat": 4,
 "nbformat_minor": 2,
 "cells": [
  {
   "cell_type": "code",
   "execution_count": 12,
   "metadata": {
    "pycharm": {
     "name": "#%%\n"
    }
   },
   "outputs": [
    {
     "output_type": "stream",
     "name": "stdout",
     "text": [
      "{'key1': 'value1', 'key2': 'value2', 'key3': 'value3'}\nvalue2\nkey1 -> value1\nkey3 -> value3\nkey4 -> value4\nTrue\nNone\nFalse\n"
     ]
    }
   ],
   "source": [
    "# 字典是键值对\n",
    "dict1 = {\n",
    "    'key1' : 'value1',\n",
    "    'key2' : 'value2',\n",
    "    'key3' : 'value3'\n",
    "}\n",
    "print(dict1)\n",
    "print(dict1['key2'])\n",
    "\n",
    "# 新增\n",
    "dict1['key4'] = 'value4'\n",
    "\n",
    "# 删除\n",
    "del dict1['key2']\n",
    "\n",
    "for k, v in dict1.items():\n",
    "    print('{0} -> {1}'.format(k, v))\n",
    "\n",
    "# in 可以检查键是否存在\n",
    "print('key3' in dict1)\n",
    "# get() 方法检查键是否存在，不存在返回 None\n",
    "print(dict1.get('key2'))\n",
    "\n",
    "# values() 检查值是否存在\n",
    "print('value2' in dict1.values())"
   ]
  },
  {
   "cell_type": "code",
   "execution_count": 3,
   "outputs": [
    {
     "name": "stdout",
     "output_type": "stream",
     "text": [
      "empty\n",
      "0\n",
      "1\n"
     ]
    }
   ],
   "source": [
    "dict2 = {}\n",
    "\n",
    "# 字典判空操作\n",
    "if not dict2:\n",
    "    print('empty')\n",
    "\n",
    "print(len(dict2))\n",
    "\n",
    "dict2['a'] = 'b'\n",
    "print(len(dict2))"
   ],
   "metadata": {
    "collapsed": false,
    "pycharm": {
     "name": "#%%\n"
    }
   }
  },
  {
   "cell_type": "code",
   "execution_count": 2,
   "metadata": {
    "pycharm": {
     "name": "#%%\n"
    }
   },
   "outputs": [
    {
     "output_type": "stream",
     "name": "stdout",
     "text": [
      "['brazil', 'russia', 'india']\nTrue\nFalse\n['brazil', 'russia', 'china']\nFalse\n"
     ]
    }
   ],
   "source": [
    "# 使用集合，可以检查是否是成员，子集，以及交集等\n",
    "set1 = (['brazil', 'russia', 'india'])\n",
    "print(set1)\n",
    "\n",
    "# 检查是否存在与集合中\n",
    "print('india' in set1)\n",
    "print('india' not in set1)\n",
    "\n",
    "set1.append('china')\n",
    "set1.remove('india')\n",
    "print(set1)\n",
    "\n",
    "print('india' in set1)"
   ]
  },
  {
   "cell_type": "code",
   "execution_count": null,
   "metadata": {
    "pycharm": {
     "name": "#%%\n"
    }
   },
   "outputs": [],
   "source": []
  }
 ]
}