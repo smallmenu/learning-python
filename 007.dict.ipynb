{
 "cells": [
  {
   "cell_type": "code",
   "execution_count": 1,
   "metadata": {
    "pycharm": {
     "name": "#%%\n"
    }
   },
   "outputs": [
    {
     "name": "stdout",
     "output_type": "stream",
     "text": [
      "{'key1': 'value1', 'key2': 'value2', 'key3': 'value3'}\n",
      "value2\n",
      "key1 -> value1\n",
      "key3 -> value3\n",
      "key4 -> value4\n",
      "True\n",
      "None\n",
      "False\n"
     ]
    }
   ],
   "source": [
    "# 字典是键值对\n",
    "dict1 = {\n",
    "    'key1' : 'value1',\n",
    "    'key2' : 'value2',\n",
    "    'key3' : 'value3'\n",
    "}\n",
    "print(dict1)\n",
    "print(dict1['key2'])\n",
    "\n",
    "# 新增\n",
    "dict1['key4'] = 'value4'\n",
    "\n",
    "# 删除\n",
    "del dict1['key2']\n",
    "\n",
    "for k, v in dict1.items():\n",
    "    print('{0} -> {1}'.format(k, v))\n",
    "\n",
    "# in 可以检查键是否存在，返回 bool\n",
    "print('key3' in dict1)\n",
    "# get() 方法检查键是否存在，不存在返回 None\n",
    "print(dict1.get('key2'))\n",
    "\n",
    "# values() 检查值是否存在\n",
    "print('value2' in dict1.values())"
   ]
  },
  {
   "cell_type": "code",
   "execution_count": 3,
   "metadata": {
    "collapsed": false,
    "pycharm": {
     "name": "#%%\n"
    }
   },
   "outputs": [
    {
     "name": "stdout",
     "output_type": "stream",
     "text": [
      "empty\n",
      "0\n",
      "1\n"
     ]
    }
   ],
   "source": [
    "dict2 = {}\n",
    "\n",
    "# 字典判空操作\n",
    "if not dict2:\n",
    "    print('empty')\n",
    "\n",
    "print(len(dict2))\n",
    "\n",
    "dict2['a'] = 'b'\n",
    "print(len(dict2))"
   ]
  },
  {
   "cell_type": "code",
   "execution_count": 2,
   "metadata": {
    "pycharm": {
     "name": "#%%\n"
    }
   },
   "outputs": [
    {
     "name": "stdout",
     "output_type": "stream",
     "text": [
      "['brazil', 'russia', 'india']\n",
      "True\n",
      "False\n",
      "['brazil', 'russia', 'china']\n",
      "False\n"
     ]
    }
   ],
   "source": [
    "# 使用集合，可以检查是否是成员，子集，以及交集等\n",
    "set1 = (['brazil', 'russia', 'india'])\n",
    "print(set1)\n",
    "\n",
    "# 检查是否存在与集合中\n",
    "print('india' in set1)\n",
    "print('india' not in set1)\n",
    "\n",
    "set1.append('china')\n",
    "set1.remove('india')\n",
    "print(set1)\n",
    "\n",
    "print('india' in set1)"
   ]
  },
  {
   "cell_type": "code",
   "execution_count": null,
   "metadata": {
    "pycharm": {
     "name": "#%%\n"
    }
   },
   "outputs": [],
   "source": []
  }
 ],
 "metadata": {
  "kernelspec": {
   "display_name": "Python 3",
   "language": "python",
   "name": "python3"
  },
  "language_info": {
   "codemirror_mode": {
    "name": "ipython",
    "version": 3
   },
   "file_extension": ".py",
   "mimetype": "text/x-python",
   "name": "python",
   "nbconvert_exporter": "python",
   "pygments_lexer": "ipython3",
   "version": "3.10.8"
  },
  "orig_nbformat": 2,
  "vscode": {
   "interpreter": {
    "hash": "aee8b7b246df8f9039afb4144a1f6fd8d2ca17a180786b69acc140d282b71a49"
   }
  }
 },
 "nbformat": 4,
 "nbformat_minor": 2
}
