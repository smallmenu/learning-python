{
 "cells": [
  {
   "cell_type": "code",
   "execution_count": 1,
   "metadata": {
    "pycharm": {
     "name": "#%%\n"
    }
   },
   "outputs": [],
   "source": [
    "class SchoolMember:\n",
    "    def __init__(self, name, age):\n",
    "        self.name = name\n",
    "        self.age = age\n",
    "        print('Init SchoolMember')\n",
    "\n",
    "    def call(self):\n",
    "        print('Name:{0}, Age:{1}'.format(self.name, self.age))    \n",
    "    \n",
    "    def say(self):\n",
    "        print('Name:{0}, Age:{1}'.format(self.name, self.age))\n",
    "\n",
    "# 把基类作为元组，放在定义后面，实现继承\n",
    "class Teacher(SchoolMember):\n",
    "    # Python 不会自动调用基类的构造器，得显式调用它\n",
    "    def __init__(self, name, age, salary):\n",
    "        SchoolMember.__init__(self, name, age)\n",
    "        self.salary = salary\n",
    "        print('Init Teacher')\n",
    "    \n",
    "    # 覆盖父类方法，会被优先调用，实现多态\n",
    "    def say(self):\n",
    "        print('Name:{0}, Age:{1}, Salary:{2}'.format(self.name, self.age, self.salary))\n",
    "\n",
    "class Student(SchoolMember):\n",
    "    def __init__(self, name, age, marks):\n",
    "        SchoolMember.__init__(self, name, age)\n",
    "        self.marks = marks\n",
    "        print('Init Student')\n",
    "    \n",
    "    def say(self):\n",
    "        print('Name:{0}, Age:{1}, Marks:{2}'.format(self.name, self.age, self.marks))"
   ]
  },
  {
   "cell_type": "code",
   "execution_count": 2,
   "metadata": {
    "pycharm": {
     "name": "#%%\n"
    }
   },
   "outputs": [
    {
     "name": "stdout",
     "output_type": "stream",
     "text": [
      "Init SchoolMember\n",
      "Init Teacher\n",
      "Init SchoolMember\n",
      "Init Student\n",
      "Name:teacher, Age:30, Salary:30000\n",
      "Name:student, Age:25, Marks:75\n",
      "Name:teacher, Age:30\n",
      "Name:student, Age:25\n"
     ]
    }
   ],
   "source": [
    "t = Teacher('teacher', 30, 30000)\n",
    "s = Student('student', 25, 75)\n",
    "\n",
    "t.say()\n",
    "s.say()\n",
    "\n",
    "# Python 总是首先在实际的子类中寻找方法，如果不存在，将会按照子类声明语句中的顺序，依次在父类之中寻找。\n",
    "t.call()\n",
    "s.call()"
   ]
  },
  {
   "cell_type": "code",
   "execution_count": 5,
   "metadata": {
    "pycharm": {
     "name": "#%%\n"
    }
   },
   "outputs": [
    {
     "name": "stdout",
     "output_type": "stream",
     "text": [
      "True\n",
      "True\n"
     ]
    }
   ],
   "source": [
    "# t 不仅仅是 Teacher 类型，也是 SchoolMember 类型\n",
    "print(isinstance(t, Teacher))\n",
    "print(isinstance(t, SchoolMember))"
   ]
  },
  {
   "cell_type": "code",
   "execution_count": 6,
   "metadata": {
    "pycharm": {
     "name": "#%%\n"
    }
   },
   "outputs": [
    {
     "name": "stdout",
     "output_type": "stream",
     "text": [
      "['__class__', '__delattr__', '__dict__', '__dir__', '__doc__', '__eq__', '__format__', '__ge__', '__getattribute__', '__gt__', '__hash__', '__init__', '__init_subclass__', '__le__', '__lt__', '__module__', '__ne__', '__new__', '__reduce__', '__reduce_ex__', '__repr__', '__setattr__', '__sizeof__', '__str__', '__subclasshook__', '__weakref__', 'age', 'call', 'name', 'salary', 'say']\n"
     ]
    }
   ],
   "source": [
    "print(dir(t))"
   ]
  },
  {
   "cell_type": "code",
   "execution_count": null,
   "metadata": {
    "pycharm": {
     "name": "#%%\n"
    }
   },
   "outputs": [],
   "source": []
  }
 ],
 "metadata": {
  "kernelspec": {
   "display_name": "Python 3.8.2 64-bit",
   "metadata": {
    "interpreter": {
     "hash": "31f2aee4e71d21fbe5cf8b01ff0e069b9275f58929596ceb00d14d90e3e16cd6"
    }
   },
   "name": "python3"
  },
  "language_info": {
   "codemirror_mode": {
    "name": "ipython",
    "version": 3
   },
   "file_extension": ".py",
   "mimetype": "text/x-python",
   "name": "python",
   "nbconvert_exporter": "python",
   "pygments_lexer": "ipython3",
   "version": "3.11.1"
  },
  "orig_nbformat": 2
 },
 "nbformat": 4,
 "nbformat_minor": 2
}
