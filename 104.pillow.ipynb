{
 "cells": [
  {
   "cell_type": "code",
   "execution_count": 19,
   "metadata": {},
   "outputs": [
    {
     "ename": "UnidentifiedImageError",
     "evalue": "cannot identify image file '/Users/ncq/Pictures/light.jpeg'",
     "output_type": "error",
     "traceback": [
      "\u001b[0;31m---------------------------------------------------------------------------\u001b[0m",
      "\u001b[0;31mUnidentifiedImageError\u001b[0m                    Traceback (most recent call last)",
      "Cell \u001b[0;32mIn[19], line 6\u001b[0m\n\u001b[1;32m      2\u001b[0m \u001b[39mfrom\u001b[39;00m \u001b[39mPIL\u001b[39;00m\u001b[39m.\u001b[39;00m\u001b[39mExifTags\u001b[39;00m \u001b[39mimport\u001b[39;00m TAGS\n\u001b[1;32m      5\u001b[0m \u001b[39m# 打开图片文件\u001b[39;00m\n\u001b[0;32m----> 6\u001b[0m image \u001b[39m=\u001b[39m Image\u001b[39m.\u001b[39;49mopen(\u001b[39m'\u001b[39;49m\u001b[39m/Users/ncq/Pictures/light.jpeg\u001b[39;49m\u001b[39m'\u001b[39;49m)\n\u001b[1;32m      8\u001b[0m \u001b[39m# 获取EXIF数据\u001b[39;00m\n\u001b[1;32m      9\u001b[0m exifdata \u001b[39m=\u001b[39m image\u001b[39m.\u001b[39mgetexif()\n",
      "File \u001b[0;32m/usr/local/lib/python3.10/site-packages/PIL/Image.py:3283\u001b[0m, in \u001b[0;36mopen\u001b[0;34m(fp, mode, formats)\u001b[0m\n\u001b[1;32m   3281\u001b[0m     warnings\u001b[39m.\u001b[39mwarn(message)\n\u001b[1;32m   3282\u001b[0m msg \u001b[39m=\u001b[39m \u001b[39m\"\u001b[39m\u001b[39mcannot identify image file \u001b[39m\u001b[39m%r\u001b[39;00m\u001b[39m\"\u001b[39m \u001b[39m%\u001b[39m (filename \u001b[39mif\u001b[39;00m filename \u001b[39melse\u001b[39;00m fp)\n\u001b[0;32m-> 3283\u001b[0m \u001b[39mraise\u001b[39;00m UnidentifiedImageError(msg)\n",
      "\u001b[0;31mUnidentifiedImageError\u001b[0m: cannot identify image file '/Users/ncq/Pictures/light.jpeg'"
     ]
    }
   ],
   "source": [
    "from PIL import Image\n",
    "from PIL.ExifTags import TAGS\n",
    "\n",
    "\n",
    "# 打开图片文件\n",
    "image = Image.open('/Users/ncq/Pictures/light.jpeg')\n",
    "\n",
    "# 获取EXIF数据\n",
    "exifdata = image.getexif()\n",
    "\n",
    "exifdata\n",
    "\n",
    "# 打印所有的EXIF数据\n",
    "for tag_id in exifdata:\n",
    "    tag = TAGS.get(tag_id, tag_id)\n",
    "    data = exif_data.get(tag_id)\n",
    "    if isinstance(data, bytes):\n",
    "        data = data.decode()\n",
    "    print(f\"{tag:25}: {data}\")"
   ]
  }
 ],
 "metadata": {
  "kernelspec": {
   "display_name": "Python 3",
   "language": "python",
   "name": "python3"
  },
  "language_info": {
   "codemirror_mode": {
    "name": "ipython",
    "version": 3
   },
   "file_extension": ".py",
   "mimetype": "text/x-python",
   "name": "python",
   "nbconvert_exporter": "python",
   "pygments_lexer": "ipython3",
   "version": "3.10.8"
  },
  "orig_nbformat": 4
 },
 "nbformat": 4,
 "nbformat_minor": 2
}
