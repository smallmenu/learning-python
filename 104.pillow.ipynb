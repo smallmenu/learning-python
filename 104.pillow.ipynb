{
 "cells": [
  {
   "cell_type": "code",
   "execution_count": 60,
   "metadata": {},
   "outputs": [
    {
     "name": "stdout",
     "output_type": "stream",
     "text": [
      "<class 'tuple'>\n",
      "('R', 'G', 'B')\n",
      "{296: 2, 34665: 180, 271: 'Apple', 272: 'iPhone 11', 305: '15.4', 306: '2022:04:23 19:19:04', 531: 1, 282: 72.0, 283: 72.0}\n",
      "296:ResolutionUnit           : 2\n",
      "34665:ExifOffset               : 180\n",
      "271:Make                     : Apple\n",
      "272:Model                    : iPhone 11\n",
      "305:Software                 : 15.4\n",
      "306:DateTime                 : 2022:04:23 19:19:04\n",
      "531:YCbCrPositioning         : 1\n",
      "282:XResolution              : 72.0\n",
      "283:YResolution              : 72.0\n"
     ]
    }
   ],
   "source": [
    "from PIL import Image\n",
    "from PIL.ExifTags import TAGS\n",
    "\n",
    "\n",
    "# 打开图片文件\n",
    "image = Image.open('/Users/ncq/Pictures/1.jpeg')\n",
    "\n",
    "# 获取EXIF数据\n",
    "exifdata = image.getexif()\n",
    "a = image.getbands()\n",
    "print(type(a))\n",
    "print(a)\n",
    "\n",
    "# a = exifdata.get(TAGS.get('Make'))\n",
    "print(exifdata)\n",
    "\n",
    "# 打印所有的EXIF数据\n",
    "for tag_id in exifdata:\n",
    "    tag = TAGS.get(tag_id, tag_id)\n",
    "    data = exifdata.get(tag_id)\n",
    "    if isinstance(data, bytes):\n",
    "        data = data.decode()\n",
    "    print(f\"{tag_id}:{tag:25}: {data}\")"
   ]
  },
  {
   "cell_type": "code",
   "execution_count": 46,
   "metadata": {},
   "outputs": [
    {
     "name": "stdout",
     "output_type": "stream",
     "text": [
      "ResolutionUnit           : 2\n",
      "Make                     : Apple\n",
      "Model                    : iPhone 11\n",
      "Software                 : 15.4\n",
      "DateTime                 : 2022:04:23 19:19:04\n",
      "YCbCrPositioning         : 1\n",
      "XResolution              : 72\n",
      "YResolution              : 72\n"
     ]
    }
   ],
   "source": [
    "exifdata[271] = 'Apple'\n",
    "exifdata[272] = 'iPhone 11'\n",
    "exifdata[296] = 2\n",
    "exifdata[305] = '15.4'\n",
    "exifdata[306] = '2022:04:23 19:19:04'\n",
    "exifdata[531] = 1\n",
    "exifdata[282] = 72\n",
    "exifdata[283] = 72\n",
    "\n",
    "# 打印所有的EXIF数据\n",
    "for tag_id in exifdata:\n",
    "    tag = TAGS.get(tag_id, tag_id)\n",
    "    data = exifdata.get(tag_id)\n",
    "    if isinstance(data, bytes):\n",
    "        data = data.decode()\n",
    "    print(f\"{tag:25}: {data}\")\n",
    "\n",
    "image.save(\"/Users/ncq/Pictures/avatar2.jpg\", exif=exifdata)"
   ]
  }
 ],
 "metadata": {
  "kernelspec": {
   "display_name": "Python 3",
   "language": "python",
   "name": "python3"
  },
  "language_info": {
   "codemirror_mode": {
    "name": "ipython",
    "version": 3
   },
   "file_extension": ".py",
   "mimetype": "text/x-python",
   "name": "python",
   "nbconvert_exporter": "python",
   "pygments_lexer": "ipython3",
   "version": "3.10.8"
  },
  "orig_nbformat": 4
 },
 "nbformat": 4,
 "nbformat_minor": 2
}
