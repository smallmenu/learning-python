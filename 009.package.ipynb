{
 "cells": [
  {
   "cell_type": "code",
   "execution_count": 1,
   "metadata": {
    "pycharm": {
     "name": "#%%\n"
    }
   },
   "outputs": [
    {
     "name": "stdout",
     "output_type": "stream",
     "text": [
      "imported from another module\n",
      "Module1 Class Name:name\n"
     ]
    }
   ],
   "source": [
    "# 导入整个模块，这个模块有 2 个类，使用时需要全路径 modules.Module1（当从一个模块导入很多类时，推荐这种方式）\n",
    "import modules\n",
    "\n",
    "m = modules.Module1('name')\n",
    "m.say()"
   ]
  },
  {
   "cell_type": "code",
   "execution_count": 2,
   "metadata": {
    "pycharm": {
     "name": "#%%\n"
    }
   },
   "outputs": [
    {
     "ename": "ModuleNotFoundError",
     "evalue": "No module named 'package'",
     "output_type": "error",
     "traceback": [
      "\u001b[0;31m---------------------------------------------------------------------------\u001b[0m",
      "\u001b[0;31mModuleNotFoundError\u001b[0m                       Traceback (most recent call last)",
      "Cell \u001b[0;32mIn [2], line 2\u001b[0m\n\u001b[1;32m      1\u001b[0m \u001b[38;5;66;03m# from...import 可以导入模块的某个类，这样就可以不用使用全路径\u001b[39;00m\n\u001b[0;32m----> 2\u001b[0m \u001b[38;5;28;01mfrom\u001b[39;00m \u001b[38;5;21;01mmodules\u001b[39;00m \u001b[38;5;28;01mimport\u001b[39;00m Module2\n\u001b[1;32m      4\u001b[0m m \u001b[38;5;241m=\u001b[39m Module2(\u001b[38;5;124m'\u001b[39m\u001b[38;5;124mname\u001b[39m\u001b[38;5;124m'\u001b[39m)\n\u001b[1;32m      5\u001b[0m m\u001b[38;5;241m.\u001b[39msay()\n",
      "File \u001b[0;32m~/Repos/Python/learning-python/src/modules.py:2\u001b[0m\n\u001b[1;32m      1\u001b[0m \u001b[38;5;28;01mimport\u001b[39;00m \u001b[38;5;21;01msys\u001b[39;00m\n\u001b[0;32m----> 2\u001b[0m \u001b[38;5;28;01mfrom\u001b[39;00m \u001b[38;5;21;01msrc\u001b[39;00m\u001b[38;5;21;01m.\u001b[39;00m\u001b[38;5;21;01mpackages\u001b[39;00m\u001b[38;5;21;01m.\u001b[39;00m\u001b[38;5;21;01mpackages_main\u001b[39;00m \u001b[38;5;28;01mimport\u001b[39;00m PackagesMain\n\u001b[1;32m      5\u001b[0m \u001b[38;5;28;01mclass\u001b[39;00m \u001b[38;5;21;01mModule1\u001b[39;00m:\n\u001b[1;32m      6\u001b[0m     \u001b[38;5;28;01mdef\u001b[39;00m \u001b[38;5;21m__init__\u001b[39m(\u001b[38;5;28mself\u001b[39m, name):\n",
      "File \u001b[0;32m~/Repos/Python/learning-python/src/packages/packages_main.py:3\u001b[0m\n\u001b[1;32m      1\u001b[0m \u001b[38;5;28;01mimport\u001b[39;00m \u001b[38;5;21;01msys\u001b[39;00m\n\u001b[0;32m----> 3\u001b[0m \u001b[38;5;28;01mfrom\u001b[39;00m \u001b[38;5;21;01mpackage\u001b[39;00m \u001b[38;5;28;01mimport\u001b[39;00m Package\n\u001b[1;32m      4\u001b[0m \u001b[38;5;28;01mfrom\u001b[39;00m \u001b[38;5;21;01mb\u001b[39;00m\u001b[38;5;21;01m.\u001b[39;00m\u001b[38;5;21;01mmoduleb_main\u001b[39;00m \u001b[38;5;28;01mimport\u001b[39;00m PackagesModuleBMain\n\u001b[1;32m      7\u001b[0m \u001b[38;5;28;01mclass\u001b[39;00m \u001b[38;5;21;01mPackagesMain\u001b[39;00m:\n",
      "\u001b[0;31mModuleNotFoundError\u001b[0m: No module named 'package'"
     ]
    }
   ],
   "source": [
    "# from...import 可以导入模块的某个类，这样就可以不用使用全路径\n",
    "from modules import Module2\n",
    "\n",
    "m = Module2('name')\n",
    "m.say()"
   ]
  },
  {
   "cell_type": "code",
   "execution_count": 2,
   "metadata": {
    "pycharm": {
     "name": "#%%\n"
    }
   },
   "outputs": [
    {
     "name": "stdout",
     "output_type": "stream",
     "text": [
      "packages/package.Package Class Name:package\n"
     ]
    }
   ],
   "source": [
    "# 导入模块下级目录的子模块\n",
    "import packages.package\n",
    "\n",
    "c1 = packages.package.Package('package')\n",
    "c1.say()"
   ]
  },
  {
   "cell_type": "code",
   "execution_count": 4,
   "metadata": {
    "pycharm": {
     "name": "#%%\n"
    }
   },
   "outputs": [
    {
     "name": "stdout",
     "output_type": "stream",
     "text": [
      "packages/package.Package Class Name:package\n"
     ]
    }
   ],
   "source": [
    "# 导入模块下级目录的子模块\n",
    "from packages.package import Package\n",
    "\n",
    "c2 = Package('package')\n",
    "c2.say()"
   ]
  },
  {
   "cell_type": "code",
   "execution_count": 2,
   "metadata": {
    "pycharm": {
     "name": "#%%\n"
    }
   },
   "outputs": [
    {
     "name": "stdout",
     "output_type": "stream",
     "text": [
      "packages/a/suba/modulesuba.ModuleSubA Class Name:classpa_sub_a\n"
     ]
    }
   ],
   "source": [
    "# 导入下级多级目录的子模块\n",
    "from packages.a.suba.modulesuba import ModuleSubA\n",
    "c3 = ModuleSubA('classpa_sub_a')\n",
    "c3.say()"
   ]
  },
  {
   "cell_type": "code",
   "execution_count": 2,
   "metadata": {
    "pycharm": {
     "name": "#%%\n"
    }
   },
   "outputs": [
    {
     "name": "stdout",
     "output_type": "stream",
     "text": [
      "['/Users/ncq/Repos/Python/learning-python', '/usr/local/Cellar/python@3.10/3.10.8/Frameworks/Python.framework/Versions/3.10/lib/python310.zip', '/usr/local/Cellar/python@3.10/3.10.8/Frameworks/Python.framework/Versions/3.10/lib/python3.10', '/usr/local/Cellar/python@3.10/3.10.8/Frameworks/Python.framework/Versions/3.10/lib/python3.10/lib-dynload', '', '/Users/ncq/Library/Python/3.10/lib/python/site-packages', '/usr/local/lib/python3.10/site-packages', '/Users/ncq/Repos/Python/learning-python/packages']\n",
      "PackagesMain Class Name:name\n",
      "packages/package.Package Class Name:name\n",
      "packages/b/moduleb_main.PackagesModuleBMain Class Name:name\n",
      "packages/a/modulea.ModuleA Class Name:a.name\n",
      "packages/package.Package Class Name:b.name\n"
     ]
    }
   ],
   "source": [
    "import os\n",
    "import sys\n",
    "from packages.packages_main import PackagesMain\n",
    "\n",
    "print(sys.path)\n",
    "c4 = PackagesMain('name')\n",
    "c4.say()"
   ]
  },
  {
   "cell_type": "code",
   "execution_count": null,
   "metadata": {
    "pycharm": {
     "name": "#%%\n"
    }
   },
   "outputs": [],
   "source": []
  }
 ],
 "metadata": {
  "kernelspec": {
   "display_name": "Python 3",
   "language": "python",
   "name": "python3"
  },
  "language_info": {
   "codemirror_mode": {
    "name": "ipython",
    "version": 3
   },
   "file_extension": ".py",
   "mimetype": "text/x-python",
   "name": "python",
   "nbconvert_exporter": "python",
   "pygments_lexer": "ipython3",
   "version": "3.10.8"
  },
  "orig_nbformat": 2,
  "vscode": {
   "interpreter": {
    "hash": "aee8b7b246df8f9039afb4144a1f6fd8d2ca17a180786b69acc140d282b71a49"
   }
  }
 },
 "nbformat": 4,
 "nbformat_minor": 2
}
