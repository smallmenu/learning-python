{
 "cells": [
  {
   "cell_type": "code",
   "execution_count": 1,
   "metadata": {
    "pycharm": {
     "name": "#%%\n"
    }
   },
   "outputs": [
    {
     "name": "stdout",
     "output_type": "stream",
     "text": [
      "imported from another module\n",
      "Module1 Class Name:name\n"
     ]
    }
   ],
   "source": [
    "# 导入整个模块，这个模块有 2 个类，使用时需要全路径 modules.Module1（当从一个模块导入很多类时，推荐这种方式）\n",
    "import modules\n",
    "\n",
    "m = modules.Module1('name')\n",
    "m.say()"
   ]
  },
  {
   "cell_type": "code",
   "execution_count": 2,
   "metadata": {
    "pycharm": {
     "name": "#%%\n"
    }
   },
   "outputs": [
    {
     "ename": "ModuleNotFoundError",
     "evalue": "No module named 'package'",
     "output_type": "error",
     "traceback": [
      "\u001B[0;31m---------------------------------------------------------------------------\u001B[0m",
      "\u001B[0;31mModuleNotFoundError\u001B[0m                       Traceback (most recent call last)",
      "Cell \u001B[0;32mIn [2], line 2\u001B[0m\n\u001B[1;32m      1\u001B[0m \u001B[38;5;66;03m# from...import 可以导入模块的某个类，这样就可以不用使用全路径\u001B[39;00m\n\u001B[0;32m----> 2\u001B[0m \u001B[38;5;28;01mfrom\u001B[39;00m \u001B[38;5;21;01mmodules\u001B[39;00m \u001B[38;5;28;01mimport\u001B[39;00m Module2\n\u001B[1;32m      4\u001B[0m m \u001B[38;5;241m=\u001B[39m Module2(\u001B[38;5;124m'\u001B[39m\u001B[38;5;124mname\u001B[39m\u001B[38;5;124m'\u001B[39m)\n\u001B[1;32m      5\u001B[0m m\u001B[38;5;241m.\u001B[39msay()\n",
      "File \u001B[0;32m~/Repos/Python/learning-python/src/modules.py:2\u001B[0m\n\u001B[1;32m      1\u001B[0m \u001B[38;5;28;01mimport\u001B[39;00m \u001B[38;5;21;01msys\u001B[39;00m\n\u001B[0;32m----> 2\u001B[0m \u001B[38;5;28;01mfrom\u001B[39;00m \u001B[38;5;21;01msrc\u001B[39;00m\u001B[38;5;21;01m.\u001B[39;00m\u001B[38;5;21;01mpackages\u001B[39;00m\u001B[38;5;21;01m.\u001B[39;00m\u001B[38;5;21;01mpackages_main\u001B[39;00m \u001B[38;5;28;01mimport\u001B[39;00m PackagesMain\n\u001B[1;32m      5\u001B[0m \u001B[38;5;28;01mclass\u001B[39;00m \u001B[38;5;21;01mModule1\u001B[39;00m:\n\u001B[1;32m      6\u001B[0m     \u001B[38;5;28;01mdef\u001B[39;00m \u001B[38;5;21m__init__\u001B[39m(\u001B[38;5;28mself\u001B[39m, name):\n",
      "File \u001B[0;32m~/Repos/Python/learning-python/src/packages/packages_main.py:3\u001B[0m\n\u001B[1;32m      1\u001B[0m \u001B[38;5;28;01mimport\u001B[39;00m \u001B[38;5;21;01msys\u001B[39;00m\n\u001B[0;32m----> 3\u001B[0m \u001B[38;5;28;01mfrom\u001B[39;00m \u001B[38;5;21;01mpackage\u001B[39;00m \u001B[38;5;28;01mimport\u001B[39;00m Package\n\u001B[1;32m      4\u001B[0m \u001B[38;5;28;01mfrom\u001B[39;00m \u001B[38;5;21;01mb\u001B[39;00m\u001B[38;5;21;01m.\u001B[39;00m\u001B[38;5;21;01mmoduleb_main\u001B[39;00m \u001B[38;5;28;01mimport\u001B[39;00m PackagesModuleBMain\n\u001B[1;32m      7\u001B[0m \u001B[38;5;28;01mclass\u001B[39;00m \u001B[38;5;21;01mPackagesMain\u001B[39;00m:\n",
      "\u001B[0;31mModuleNotFoundError\u001B[0m: No module named 'package'"
     ]
    }
   ],
   "source": [
    "# from...import 可以导入模块的某个类，这样就可以不用使用全路径\n",
    "from modules import Module2\n",
    "\n",
    "m = Module2('name')\n",
    "m.say()"
   ]
  },
  {
   "cell_type": "code",
   "execution_count": 2,
   "metadata": {
    "pycharm": {
     "name": "#%%\n"
    }
   },
   "outputs": [
    {
     "name": "stdout",
     "output_type": "stream",
     "text": [
      "packages/package.Package Class Name:package\n"
     ]
    }
   ],
   "source": [
    "# 导入模块下级目录的子模块\n",
    "import packages.package\n",
    "\n",
    "c1 = packages.package.Package('package')\n",
    "c1.say()"
   ]
  },
  {
   "cell_type": "code",
   "execution_count": 4,
   "metadata": {
    "pycharm": {
     "name": "#%%\n"
    }
   },
   "outputs": [
    {
     "name": "stdout",
     "output_type": "stream",
     "text": [
      "packages/package.Package Class Name:package\n"
     ]
    }
   ],
   "source": [
    "# 导入模块下级目录的子模块\n",
    "from packages.package import Package\n",
    "\n",
    "c2 = Package('package')\n",
    "c2.say()"
   ]
  },
  {
   "cell_type": "code",
   "execution_count": 2,
   "metadata": {
    "pycharm": {
     "name": "#%%\n"
    }
   },
   "outputs": [
    {
     "name": "stdout",
     "output_type": "stream",
     "text": [
      "packages/a/suba/modulesuba.ModuleSubA Class Name:classpa_sub_a\n"
     ]
    }
   ],
   "source": [
    "# 导入下级多级目录的子模块\n",
    "from packages.a.suba.modulesuba import ModuleSubA\n",
    "c3 = ModuleSubA('classpa_sub_a')\n",
    "c3.say()"
   ]
  },
  {
   "cell_type": "code",
   "execution_count": 5,
   "metadata": {
    "pycharm": {
     "name": "#%%\n"
    }
   },
   "outputs": [
    {
     "name": "stdout",
     "output_type": "stream",
     "text": [
      "['/Users/ncq/Library/Application Support/JetBrains/IntelliJIdea2022.1/plugins/python/helpers-pro/jupyter_debug', '/Users/ncq/Library/Application Support/JetBrains/IntelliJIdea2022.1/plugins/python/helpers/pydev', '/Users/ncq/Repos/Python/learning-python', '/Users/ncq/Repos/Python/learning-python', '/usr/local/Cellar/python@3.9/3.9.15/Frameworks/Python.framework/Versions/3.9/lib/python39.zip', '/usr/local/Cellar/python@3.9/3.9.15/Frameworks/Python.framework/Versions/3.9/lib/python3.9', '/usr/local/Cellar/python@3.9/3.9.15/Frameworks/Python.framework/Versions/3.9/lib/python3.9/lib-dynload', '', '/usr/local/lib/python3.9/site-packages']\n",
      "PackagesMain Class Name:name\n"
     ]
    }
   ],
   "source": [
    "import os\n",
    "import sys\n",
    "from packages.packages_main import PackagesMain\n",
    "\n",
    "print(sys.path)\n",
    "c4 = PackagesMain('name')\n",
    "c4.say()"
   ]
  },
  {
   "cell_type": "code",
   "execution_count": null,
   "metadata": {
    "pycharm": {
     "name": "#%%\n"
    }
   },
   "outputs": [],
   "source": []
  }
 ],
 "metadata": {
  "interpreter": {
   "hash": "31f2aee4e71d21fbe5cf8b01ff0e069b9275f58929596ceb00d14d90e3e16cd6"
  },
  "kernelspec": {
   "display_name": "Python 3.8.2 64-bit",
   "name": "python3"
  },
  "language_info": {
   "codemirror_mode": {
    "name": "ipython",
    "version": 3
   },
   "file_extension": ".py",
   "mimetype": "text/x-python",
   "name": "python",
   "nbconvert_exporter": "python",
   "pygments_lexer": "ipython3",
   "version": "3.8.2"
  },
  "orig_nbformat": 2
 },
 "nbformat": 4,
 "nbformat_minor": 2
}