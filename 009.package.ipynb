{
 "cells": [
  {
   "cell_type": "code",
   "execution_count": 3,
   "metadata": {
    "pycharm": {
     "name": "#%%\n"
    }
   },
   "outputs": [
    {
     "name": "stdout",
     "output_type": "stream",
     "text": [
      "Module1 Class Name:name\n"
     ]
    }
   ],
   "source": [
    "# 导入整个模块，这个模块有 2 个类，使用时需要全路径 modules.Module1（当从一个模块导入很多类时，推荐这种方式）\n",
    "import modules\n",
    "\n",
    "m = modules.Module1('name')\n",
    "m.say()"
   ]
  },
  {
   "cell_type": "code",
   "execution_count": 4,
   "metadata": {
    "pycharm": {
     "name": "#%%\n"
    }
   },
   "outputs": [
    {
     "name": "stdout",
     "output_type": "stream",
     "text": [
      "Module2 Class Name:name\n"
     ]
    }
   ],
   "source": [
    "# from...import 可以导入模块的某个类，这样就可以不用使用全路径\n",
    "from modules import Module2\n",
    "\n",
    "m = Module2('name')\n",
    "m.say()"
   ]
  },
  {
   "cell_type": "code",
   "execution_count": 5,
   "metadata": {
    "pycharm": {
     "name": "#%%\n"
    }
   },
   "outputs": [
    {
     "name": "stdout",
     "output_type": "stream",
     "text": [
      "packages/package.Package Class Name:package\n"
     ]
    }
   ],
   "source": [
    "# 导入模块下级目录的子模块\n",
    "import packages.package\n",
    "\n",
    "c1 = packages.package.Package('package')\n",
    "c1.say()"
   ]
  },
  {
   "cell_type": "code",
   "execution_count": 6,
   "metadata": {
    "pycharm": {
     "name": "#%%\n"
    }
   },
   "outputs": [
    {
     "name": "stdout",
     "output_type": "stream",
     "text": [
      "packages/package.Package Class Name:package\n"
     ]
    }
   ],
   "source": [
    "# 导入模块下级目录的子模块\n",
    "from packages.package import Package\n",
    "\n",
    "c2 = Package('package')\n",
    "c2.say()"
   ]
  },
  {
   "cell_type": "code",
   "execution_count": 7,
   "metadata": {
    "pycharm": {
     "name": "#%%\n"
    }
   },
   "outputs": [
    {
     "name": "stdout",
     "output_type": "stream",
     "text": [
      "packages/a/suba/modulesuba.ModuleSubA Class Name:classpa_sub_a\n"
     ]
    }
   ],
   "source": [
    "# 导入下级多级目录的子模块\n",
    "from packages.a.suba.modulesuba import ModuleSubA\n",
    "c3 = ModuleSubA('classpa_sub_a')\n",
    "c3.say()"
   ]
  },
  {
   "cell_type": "code",
   "execution_count": 9,
   "metadata": {
    "pycharm": {
     "name": "#%%\n"
    }
   },
   "outputs": [
    {
     "name": "stdout",
     "output_type": "stream",
     "text": [
      "['/Users/ncq/Repos/Python/learning-python', '/usr/local/Cellar/python@3.10/3.10.8/Frameworks/Python.framework/Versions/3.10/lib/python310.zip', '/usr/local/Cellar/python@3.10/3.10.8/Frameworks/Python.framework/Versions/3.10/lib/python3.10', '/usr/local/Cellar/python@3.10/3.10.8/Frameworks/Python.framework/Versions/3.10/lib/python3.10/lib-dynload', '', '/Users/ncq/Library/Python/3.10/lib/python/site-packages', '/usr/local/lib/python3.10/site-packages', '/Users/ncq/Repos/Python/learning-python/packages/../']\n",
      "PackagesMain Class Name:name\n",
      "packages/package.Package Class Name:name\n",
      "packages/b/moduleb_main.PackagesModuleBMain Class Name:name\n",
      "packages/a/modulea.ModuleA Class Name:a.name\n",
      "packages/package.Package Class Name:b.name\n",
      "funs/Fun Class Name:name\n",
      "packages/a/modulea.ModuleA Class Name:a.name\n"
     ]
    }
   ],
   "source": [
    "import os\n",
    "import sys\n",
    "from packages.packages_main import PackagesMain\n",
    "\n",
    "print(sys.path)\n",
    "c4 = PackagesMain('name')\n",
    "c4.say()"
   ]
  },
  {
   "cell_type": "code",
   "execution_count": null,
   "metadata": {
    "pycharm": {
     "name": "#%%\n"
    }
   },
   "outputs": [],
   "source": []
  }
 ],
 "metadata": {
  "kernelspec": {
   "display_name": "Python 3",
   "language": "python",
   "name": "python3"
  },
  "language_info": {
   "codemirror_mode": {
    "name": "ipython",
    "version": 3
   },
   "file_extension": ".py",
   "mimetype": "text/x-python",
   "name": "python",
   "nbconvert_exporter": "python",
   "pygments_lexer": "ipython3",
   "version": "3.11.2"
  },
  "orig_nbformat": 2,
  "vscode": {
   "interpreter": {
    "hash": "aee8b7b246df8f9039afb4144a1f6fd8d2ca17a180786b69acc140d282b71a49"
   }
  }
 },
 "nbformat": 4,
 "nbformat_minor": 2
}
