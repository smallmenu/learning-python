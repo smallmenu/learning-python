{
 "cells": [
  {
   "cell_type": "code",
   "execution_count": 2,
   "metadata": {
    "pycharm": {
     "name": "#%%\n"
    }
   },
   "outputs": [
    {
     "name": "stdout",
     "output_type": "stream",
     "text": [
      "hello world\n",
      "hello's world\n",
      "hello's world\n",
      "say: \"hello's world\"\n",
      "line1\n",
      "line2\n",
      "\n",
      "hello world \n",
      "\n",
      "hello world\\n\n"
     ]
    }
   ],
   "source": [
    "# 单引号和双引号是一样的，只是方便转义，Python 中没有 char 类型，可使用 \\ 进行转义\n",
    "str1 = 'hello world'\n",
    "str2 = \"hello's world\"\n",
    "str3 = 'hello\\'s world'\n",
    "\n",
    "# 三个单引号可以同时转义单、双引号，三个单引号还可以表示多行文本\n",
    "str4 = '''say: \"hello's world\"'''\n",
    "str5 = '''line1\n",
    "line2\n",
    "'''\n",
    "\n",
    "str7 = \"hello world \\n\"\n",
    "\n",
    "# 自然字符串，不进行转义。会原样输出\\n，可用于正则表达式\n",
    "str8 = r\"hello world\\n\"\n",
    "\n",
    "print(str1)\n",
    "print(str2)\n",
    "print(str3)\n",
    "print(str4)\n",
    "print(str5)\n",
    "print(str7)\n",
    "print(str8)"
   ]
  },
  {
   "cell_type": "code",
   "execution_count": 3,
   "metadata": {
    "pycharm": {
     "name": "#%%\n"
    }
   },
   "outputs": [
    {
     "name": "stdout",
     "output_type": "stream",
     "text": [
      "Hello\n",
      "Hello,中文\n",
      "b'Hello'\n",
      "b'Hello,\\xe4\\xb8\\xad\\xe6\\x96\\x87'\n",
      "Hello,中文\n"
     ]
    }
   ],
   "source": [
    "# Python 中字符串是 str 类型，默认是 Unicode 编码，一个字符对应多个字节。可使用 b 定义 bytes 类型\n",
    "str1 = 'Hello'\n",
    "str2 = 'Hello,中文'\n",
    "byte1 = b'Hello'\n",
    "\n",
    "# encode() 可以将 str 类型编码为 bytes 类型\n",
    "byte2 = str2.encode('UTF-8')\n",
    "str3 = byte2.decode('UTF-8')\n",
    "print(str1)\n",
    "print(str2)\n",
    "print(byte1)\n",
    "print(byte2)\n",
    "print(str3)"
   ]
  },
  {
   "cell_type": "code",
   "execution_count": 7,
   "metadata": {
    "pycharm": {
     "name": "#%%\n"
    }
   },
   "outputs": [
    {
     "name": "stdout",
     "output_type": "stream",
     "text": [
      "Happy 23rd Birthday\n"
     ]
    }
   ],
   "source": [
    "age = 23\n",
    "\n",
    "# 和 Java 或者其他语言不同，字符串拼接不会自动进行运算。（不同类型会报错），可使用 str() 函数\n",
    "# message = 'Happy ' + age + 'rd Birthday'\n",
    "\n",
    "message = 'Happy ' + str(age) + 'rd Birthday'\n",
    "\n",
    "print(message)"
   ]
  },
  {
   "cell_type": "code",
   "execution_count": 8,
   "metadata": {
    "pycharm": {
     "name": "#%%\n"
    }
   },
   "outputs": [
    {
     "name": "stdout",
     "output_type": "stream",
     "text": [
      "Swaroop is 25 years old cost 3.14 RMB\n",
      "Swaroop is 25 years old cost 3.14 RMB\n",
      "Swaroop is 25 years old cost 3.142 RMB\n"
     ]
    }
   ],
   "source": [
    "# 字符串 format() 支持占位符\n",
    "age = 25\n",
    "name = 'Swaroop'\n",
    "cost = 3.1415\n",
    "print('{0} is {1} years old cost {2:.2f} RMB'.format(name, age, cost))\n",
    "\n",
    "# 基于关键词的方法\n",
    "print('{name} is {age} years old cost {cost:.2f} RMB'.format(name = name, age = age, cost = cost))\n",
    "\n",
    "# f-string\n",
    "print(f'{name} is {age} years old cost {cost:.3f} RMB')"
   ]
  },
  {
   "cell_type": "code",
   "execution_count": 8,
   "metadata": {
    "pycharm": {
     "name": "#%%\n"
    }
   },
   "outputs": [
    {
     "name": "stdout",
     "output_type": "stream",
     "text": [
      "hello\n",
      "Ada Lovelace\n",
      "ADA LOVELACE\n",
      "True\n",
      "True\n",
      "True\n",
      "2\n"
     ]
    }
   ],
   "source": [
    "s1 = 'Hello, 中国'\n",
    "s2 = 'Hello, 中国'\n",
    "str1 = 'ada lovelace'\n",
    "\n",
    "# 去除空格\n",
    "print(' hello   '.strip())\n",
    "\n",
    "# 首字母大写\n",
    "print(str1.title())\n",
    "\n",
    "# 转换大写\n",
    "print(str1.upper())\n",
    "\n",
    "# 判断相等\n",
    "print(s1 == s2)\n",
    "\n",
    "# 开头\n",
    "print(s1.startswith('Hello'))\n",
    "\n",
    "# 包含\n",
    "print('o' in s1)\n",
    "\n",
    "# 查找, 返回index\n",
    "print(s1.find('ll'))"
   ]
  },
  {
   "cell_type": "code",
   "execution_count": 10,
   "metadata": {
    "pycharm": {
     "name": "#%%\n"
    }
   },
   "outputs": [
    {
     "name": "stdout",
     "output_type": "stream",
     "text": [
      "d\n",
      "abc\n",
      "['banana']\n",
      "['banana']\n",
      "[]\n",
      "['banana']\n"
     ]
    }
   ],
   "source": [
    "# 字符串是不可以变的，赋值是引用，object1 与 object2 都是 'abc' 的引用\n",
    "object1 = 'abc'\n",
    "object2 = object1\n",
    "\n",
    "# object1 引用了 'd'，object2 依然引用 'abc'\n",
    "object1 = 'd'\n",
    "print(object1)\n",
    "print(object2)\n",
    "\n",
    "# 对象赋值是引用\n",
    "list1 = ['apple', 'banana']\n",
    "list2 = list1\n",
    "del list1[0]\n",
    "\n",
    "print(list1)\n",
    "print(list2)\n",
    "\n",
    "# 可以使用[:]，复制数组\n",
    "list3 = list1[:]\n",
    "del list1[0]\n",
    "print(list1)\n",
    "print(list3)"
   ]
  },
  {
   "cell_type": "code",
   "execution_count": 11,
   "metadata": {
    "pycharm": {
     "name": "#%%\n"
    }
   },
   "outputs": [
    {
     "name": "stdout",
     "output_type": "stream",
     "text": [
      "9\n",
      "13\n",
      "11\n"
     ]
    }
   ],
   "source": [
    "# 字符串长度\n",
    "string1 = 'Hello, 中国'\n",
    "print(len(string1))\n",
    "\n",
    "# 字节长度\n",
    "print(len(string1.encode('UTF-8')))\n",
    "print(len(string1.encode('GBK')))"
   ]
  },
  {
   "cell_type": "code",
   "execution_count": 1,
   "metadata": {
    "pycharm": {
     "name": "#%%\n"
    }
   },
   "outputs": [
    {
     "name": "stdout",
     "output_type": "stream",
     "text": [
      "1.23\n",
      "100\n",
      "123\n",
      "12\n",
      "0\n"
     ]
    },
    {
     "ename": "ValueError",
     "evalue": "invalid literal for int() with base 10: ''",
     "output_type": "error",
     "traceback": [
      "\u001B[0;31m---------------------------------------------------------------------------\u001B[0m",
      "\u001B[0;31mValueError\u001B[0m                                Traceback (most recent call last)",
      "Cell \u001B[0;32mIn [1], line 8\u001B[0m\n\u001B[1;32m      5\u001B[0m \u001B[38;5;28mprint\u001B[39m(\u001B[38;5;28mint\u001B[39m(\u001B[38;5;124m'\u001B[39m\u001B[38;5;124m0\u001B[39m\u001B[38;5;124m'\u001B[39m))\n\u001B[1;32m      7\u001B[0m \u001B[38;5;66;03m# 以下报错\u001B[39;00m\n\u001B[0;32m----> 8\u001B[0m \u001B[38;5;28mprint\u001B[39m(\u001B[38;5;28;43mint\u001B[39;49m\u001B[43m(\u001B[49m\u001B[38;5;124;43m'\u001B[39;49m\u001B[38;5;124;43m'\u001B[39;49m\u001B[43m)\u001B[49m)\n\u001B[1;32m      9\u001B[0m \u001B[38;5;28mprint\u001B[39m(\u001B[38;5;28mint\u001B[39m(\u001B[38;5;124m'\u001B[39m\u001B[38;5;124m1.23\u001B[39m\u001B[38;5;124m'\u001B[39m))\n",
      "\u001B[0;31mValueError\u001B[0m: invalid literal for int() with base 10: ''"
     ]
    }
   ],
   "source": [
    "print(str(1.23))\n",
    "print(str(100))\n",
    "print(int('123'))\n",
    "print(int(12.3))\n",
    "print(int('0'))\n",
    "\n",
    "# 以下报错\n",
    "print(int(''))\n",
    "print(int('1.23'))"
   ]
  },
  {
   "cell_type": "code",
   "execution_count": null,
   "metadata": {
    "pycharm": {
     "name": "#%%\n"
    }
   },
   "outputs": [],
   "source": []
  }
 ],
 "metadata": {
  "interpreter": {
   "hash": "31f2aee4e71d21fbe5cf8b01ff0e069b9275f58929596ceb00d14d90e3e16cd6"
  },
  "kernelspec": {
   "display_name": "Python 3.8.2 64-bit",
   "name": "python3"
  },
  "language_info": {
   "codemirror_mode": {
    "name": "ipython",
    "version": 3
   },
   "file_extension": ".py",
   "mimetype": "text/x-python",
   "name": "python",
   "nbconvert_exporter": "python",
   "pygments_lexer": "ipython3",
   "version": "3.8.2"
  },
  "orig_nbformat": 2
 },
 "nbformat": 4,
 "nbformat_minor": 2
}