{
 "cells": [
  {
   "cell_type": "code",
   "execution_count": 3,
   "metadata": {
    "pycharm": {
     "name": "#%%\n"
    }
   },
   "outputs": [
    {
     "name": "stdout",
     "output_type": "stream",
     "text": [
      "['apple', 'mango', 'carrot', 'banana']\n",
      "4\n",
      "mango\n",
      "---\n",
      "apple\n",
      "corn\n",
      "mango\n",
      "carrot\n",
      "banana\n",
      "rice\n"
     ]
    }
   ],
   "source": [
    "# 列表，类似动态数组\n",
    "shoplist = ['apple', 'mango', 'carrot', 'banana']\n",
    "\n",
    "print(shoplist)\n",
    "print(len(shoplist))\n",
    "print(shoplist[1])\n",
    "print('---')\n",
    "\n",
    "shoplist.append('rice')\n",
    "shoplist.insert(1, 'corn')\n",
    "\n",
    "for item in shoplist:\n",
    "    print(item)"
   ]
  },
  {
   "cell_type": "code",
   "execution_count": 4,
   "metadata": {
    "pycharm": {
     "name": "#%%\n"
    }
   },
   "outputs": [
    {
     "name": "stdout",
     "output_type": "stream",
     "text": [
      "apple\n",
      "banana\n",
      "carrot\n",
      "corn\n",
      "mango\n",
      "rice\n"
     ]
    }
   ],
   "source": [
    "# 会对原有列表进行排序，临时排序可以使用 sorted() 函数\n",
    "shoplist.sort()\n",
    "for item in shoplist:\n",
    "    print(item)"
   ]
  },
  {
   "cell_type": "code",
   "execution_count": 5,
   "metadata": {
    "pycharm": {
     "name": "#%%\n"
    }
   },
   "outputs": [
    {
     "name": "stdout",
     "output_type": "stream",
     "text": [
      "rice\n",
      "---\n",
      "carrot\n",
      "corn\n",
      "mango\n"
     ]
    }
   ],
   "source": [
    "# 删除\n",
    "del shoplist[0]\n",
    "# 弹出并返回，可接受索引参数，如果空 List 会报错\n",
    "shop = shoplist.pop()\n",
    "# 根据值删除，需要判断，如果没找到会报错\n",
    "shoplist.remove('banana')\n",
    "print(shop)\n",
    "print('---')\n",
    "\n",
    "\n",
    "for item in shoplist:\n",
    "    print(item)"
   ]
  },
  {
   "cell_type": "code",
   "execution_count": 6,
   "metadata": {
    "pycharm": {
     "name": "#%%\n"
    }
   },
   "outputs": [
    {
     "name": "stdout",
     "output_type": "stream",
     "text": [
      "aa,bb,cc\n"
     ]
    }
   ],
   "source": [
    "mylist = ['aa', 'bb', 'cc']\n",
    "print(','.join(mylist))"
   ]
  },
  {
   "cell_type": "code",
   "execution_count": 10,
   "metadata": {
    "pycharm": {
     "name": "#%%\n"
    }
   },
   "outputs": [
    {
     "name": "stdout",
     "output_type": "stream",
     "text": [
      "l\n",
      "corn\n",
      "hell\n",
      "rld\n",
      "el\n",
      "lloworld\n",
      "elloworl\n",
      "helloworl\n",
      "helloworld\n",
      "hlool\n",
      "helloworld\n",
      "dlrowolleh\n"
     ]
    }
   ],
   "source": [
    "# 列表、元组、字符串都是序列，它们都有切片操作。切片让我们可以取出序列的一部分。\n",
    "name = 'helloworld'\n",
    "print(name[-2])\n",
    "print(shoplist[-2])\n",
    "\n",
    "# 切片，第一个表示开始位置，第二个表示结束位置，第三个参数是步长，默认是1\n",
    "print(name[:4])\n",
    "print(name[-3:])\n",
    "print(name[1:3])\n",
    "print(name[2:])\n",
    "print(name[1:-1])\n",
    "print(name[:-1])\n",
    "print(name[:])\n",
    "print(name[::2])\n",
    "print(name[::1])\n",
    "print(name[::-1])"
   ]
  },
  {
   "cell_type": "code",
   "execution_count": 8,
   "metadata": {
    "pycharm": {
     "name": "#%%\n"
    }
   },
   "outputs": [
    {
     "name": "stdout",
     "output_type": "stream",
     "text": [
      "empty\n",
      "[]\n"
     ]
    }
   ],
   "source": [
    "lists = []\n",
    "\n",
    "# 列表的判空\n",
    "if lists:\n",
    "    print('not empty')\n",
    "else:\n",
    "    print('empty')\n",
    "\n",
    "print(lists)"
   ]
  },
  {
   "cell_type": "code",
   "execution_count": 9,
   "metadata": {
    "pycharm": {
     "name": "#%%\n"
    }
   },
   "outputs": [
    {
     "name": "stdout",
     "output_type": "stream",
     "text": [
      "python\n",
      "elephant\n",
      "penguin\n"
     ]
    },
    {
     "ename": "NameError",
     "evalue": "name 'zoop' is not defined",
     "output_type": "error",
     "traceback": [
      "\u001b[0;31m---------------------------------------------------------------------------\u001b[0m",
      "\u001b[0;31mNameError\u001b[0m                                 Traceback (most recent call last)",
      "Cell \u001b[0;32mIn[9], line 8\u001b[0m\n\u001b[1;32m      5\u001b[0m     \u001b[39mprint\u001b[39m(z)\n\u001b[1;32m      7\u001b[0m \u001b[39m# 报错\u001b[39;00m\n\u001b[0;32m----> 8\u001b[0m \u001b[39mdel\u001b[39;00m zoop[\u001b[39m0\u001b[39m]\n",
      "\u001b[0;31mNameError\u001b[0m: name 'zoop' is not defined"
     ]
    }
   ],
   "source": [
    "# 元组是不可变的\n",
    "zoo = ('python', 'elephant', 'penguin')\n",
    "\n",
    "for z in zoo:\n",
    "    print(z)\n",
    "\n",
    "# 报错\n",
    "del zoop[0]"
   ]
  }
 ],
 "metadata": {
  "kernelspec": {
   "display_name": "Python 3",
   "language": "python",
   "name": "python3"
  },
  "language_info": {
   "codemirror_mode": {
    "name": "ipython",
    "version": 3
   },
   "file_extension": ".py",
   "mimetype": "text/x-python",
   "name": "python",
   "nbconvert_exporter": "python",
   "pygments_lexer": "ipython3",
   "version": "3.10.8"
  },
  "orig_nbformat": 2,
  "vscode": {
   "interpreter": {
    "hash": "aee8b7b246df8f9039afb4144a1f6fd8d2ca17a180786b69acc140d282b71a49"
   }
  }
 },
 "nbformat": 4,
 "nbformat_minor": 2
}
