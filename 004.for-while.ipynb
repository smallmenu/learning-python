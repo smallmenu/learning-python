{
 "metadata": {
  "language_info": {
   "codemirror_mode": {
    "name": "ipython",
    "version": 3
   },
   "file_extension": ".py",
   "mimetype": "text/x-python",
   "name": "python",
   "nbconvert_exporter": "python",
   "pygments_lexer": "ipython3",
   "version": "3.8.2-final"
  },
  "orig_nbformat": 2,
  "kernelspec": {
   "name": "python3",
   "display_name": "Python 3.8.2 64-bit",
   "metadata": {
    "interpreter": {
     "hash": "31f2aee4e71d21fbe5cf8b01ff0e069b9275f58929596ceb00d14d90e3e16cd6"
    }
   }
  }
 },
 "nbformat": 4,
 "nbformat_minor": 2,
 "cells": [
  {
   "cell_type": "code",
   "execution_count": null,
   "metadata": {
    "pycharm": {
     "name": "#%%\n"
    }
   },
   "outputs": [],
   "source": [
    "# Python 不能实现C/Java 中的 for (int i = 0; i < 5; i++) 这种表达\n",
    "# range 可以创建数值列表，第三个参数是步长\n",
    "for i in range(1, 10):\n",
    "    print(i)\n",
    "else:\n",
    "    print('End')\n",
    "\n",
    "for i in range(1, 10, 2):\n",
    "    print(i)\n",
    "else:\n",
    "    print('End')"
   ]
  },
  {
   "cell_type": "code",
   "execution_count": null,
   "metadata": {
    "pycharm": {
     "name": "#%%\n"
    }
   },
   "outputs": [],
   "source": [
    "# for...in 对 List 的循环\n",
    "\n",
    "names = ['Michael', 'Bob', 'Tracy']\n",
    "for name in names:\n",
    "    print(name)"
   ]
  },
  {
   "cell_type": "code",
   "execution_count": null,
   "metadata": {
    "pycharm": {
     "name": "#%%\n"
    }
   },
   "outputs": [],
   "source": [
    "# while 有 else 语句\n",
    "number = 23;\n",
    "running = False\n",
    "\n",
    "while running:\n",
    "\n",
    "    guess = int(input('Enter:'))\n",
    "    \n",
    "    if guess == number:\n",
    "        print('Success')\n",
    "        running = False\n",
    "\n",
    "        # break 语句\n",
    "        break\n",
    "    elif guess < number:\n",
    "\n",
    "        print('Small')\n",
    "\n",
    "        # continue 语句\n",
    "        continue \n",
    "    else:\n",
    "        print('Big')   \n",
    "else: \n",
    "    print('End')"
   ]
  },
  {
   "cell_type": "code",
   "execution_count": null,
   "metadata": {
    "pycharm": {
     "name": "#%%\n"
    }
   },
   "outputs": [],
   "source": []
  }
 ]
}