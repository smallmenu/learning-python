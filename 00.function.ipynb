{
 "cells": [
  {
   "cell_type": "code",
   "execution_count": 1,
   "metadata": {
    "pycharm": {
     "name": "#%%\n"
    }
   },
   "outputs": [
    {
     "name": "stdout",
     "output_type": "stream",
     "text": [
      "Hello\n"
     ]
    }
   ],
   "source": [
    "# len() 和 range() 都属于内建函数\n",
    "def sayHello():\n",
    "    print('Hello')\n",
    "\n",
    "sayHello()"
   ]
  },
  {
   "cell_type": "code",
   "execution_count": null,
   "metadata": {
    "pycharm": {
     "name": "#%%\n"
    }
   },
   "outputs": [],
   "source": [
    "def printMax(a, b):\n",
    "    if a > b:\n",
    "        print(a, 'is max')\n",
    "    elif a == b:\n",
    "        print(a, 'equal')\n",
    "    else:\n",
    "        print(b, 'is max')\n",
    "\n",
    "printMax(6, 4)"
   ]
  },
  {
   "cell_type": "code",
   "execution_count": 2,
   "metadata": {
    "pycharm": {
     "name": "#%%\n"
    }
   },
   "outputs": [
    {
     "name": "stdout",
     "output_type": "stream",
     "text": [
      "50\n",
      "2\n"
     ]
    }
   ],
   "source": [
    "# 函数内使用 global 为全局变量赋值，这个和 PHP 比较像\n",
    "x = 50\n",
    "\n",
    "def func():\n",
    "    global x\n",
    "    print(x)\n",
    "    x = 2\n",
    "\n",
    "func()\n",
    "print(x)"
   ]
  },
  {
   "cell_type": "code",
   "execution_count": 3,
   "metadata": {
    "pycharm": {
     "name": "#%%\n"
    }
   },
   "outputs": [
    {
     "name": "stdout",
     "output_type": "stream",
     "text": [
      "Hello\n",
      "WorldWorldWorldWorldWorld\n"
     ]
    }
   ],
   "source": [
    "# 函数参数的默认值，顺序必须在后面\n",
    "def say(message, time = 1):\n",
    "    print(message * time)\n",
    "\n",
    "say('Hello')\n",
    "say('World', 5)"
   ]
  },
  {
   "cell_type": "code",
   "execution_count": 1,
   "metadata": {
    "pycharm": {
     "name": "#%%\n"
    }
   },
   "outputs": [
    {
     "name": "stdout",
     "output_type": "stream",
     "text": [
      "a= 3 , b= 5 , c= 10\n",
      "a= 3 , b= 5 , c= 20\n"
     ]
    }
   ],
   "source": [
    "# 关键参数，可以通过命名来进行参数赋值，这样调用时不用担心参数顺序，但是必须参数还是要提供\n",
    "def func(a, b = 5, c = 10):\n",
    "    print('a=', a,', b=',b,', c=', c)\n",
    "\n",
    "func(3)\n",
    "func(3, c = 20)"
   ]
  },
  {
   "cell_type": "code",
   "execution_count": 2,
   "metadata": {
    "pycharm": {
     "name": "#%%\n"
    }
   },
   "outputs": [
    {
     "name": "stdout",
     "output_type": "stream",
     "text": [
      "166\n"
     ]
    }
   ],
   "source": [
    "# 任意个数参数，* 表示列表，** 表示字典\n",
    "def total(initial = 5, *numbers, **keywords):\n",
    "    count = initial\n",
    "    for number in numbers:\n",
    "        count += number\n",
    "    for key in keywords:\n",
    "        count += keywords[key]\n",
    "\n",
    "    # return 语句，如果函数没有 return 语句，会自动 return None\n",
    "    return count\n",
    "\n",
    "print(total(10, 1, 2, 3, vegetables = 50, fruits = 100))"
   ]
  },
  {
   "cell_type": "code",
   "execution_count": 13,
   "metadata": {
    "pycharm": {
     "name": "#%%\n"
    }
   },
   "outputs": [
    {
     "name": "stdout",
     "output_type": "stream",
     "text": [
      "151.96152422706632 70.0\n"
     ]
    }
   ],
   "source": [
    "# 函数返回多个值\n",
    "import math\n",
    "\n",
    "def move(x, y, step, angle=0):\n",
    "    nx = x + step * math.cos(angle)\n",
    "    ny = y - step * math.sin(angle)\n",
    "    return nx, ny\n",
    "\n",
    "# 其实是返回了一个元组\n",
    "x, y = move(100, 100, 60, math.pi / 6)\n",
    "r = move(100, 100, 60, math.pi / 6)\n",
    "print(x, y)\n",
    "print(r)"
   ]
  },
  {
   "cell_type": "code",
   "execution_count": 1,
   "metadata": {
    "pycharm": {
     "name": "#%%\n"
    }
   },
   "outputs": [
    {
     "name": "stdout",
     "output_type": "stream",
     "text": [
      " prints the max of two numbers \n"
     ]
    }
   ],
   "source": [
    "# pass 表示一个空语句块\n",
    "def someFunction():\n",
    "    pass\n",
    "\n",
    "# __doc__ 文档字符串\n",
    "def printMax(x, y):\n",
    "    ''' prints the max of two numbers '''\n",
    "\n",
    "    pass\n",
    "\n",
    "print(printMax.__doc__)"
   ]
  },
  {
   "cell_type": "code",
   "execution_count": 12,
   "metadata": {
    "pycharm": {
     "name": "#%%\n"
    }
   },
   "outputs": [
    {
     "name": "stdout",
     "output_type": "stream",
     "text": [
      "['apple', 'banana']\n",
      "['apple', 'banana']\n"
     ]
    }
   ],
   "source": [
    "# 函数的参数传递，如果是可变对象（列表、字典），则是引用传递，否则是值传递。\n",
    "lists = ['apple', 'banana', 'orange']\n",
    "def change_list1(lists):\n",
    "    if lists:\n",
    "        lists.pop()\n",
    "\n",
    "\n",
    "def change_list2(lists):\n",
    "    if lists:\n",
    "        lists.pop()\n",
    "\n",
    "# 可以通过[:]传递副本\n",
    "change_list1(lists)\n",
    "print(lists)\n",
    "change_list2(lists[:])\n",
    "print(lists)"
   ]
  }
 ],
 "metadata": {
  "kernelspec": {
   "display_name": "Python 3.8.2 64-bit",
   "metadata": {
    "interpreter": {
     "hash": "31f2aee4e71d21fbe5cf8b01ff0e069b9275f58929596ceb00d14d90e3e16cd6"
    }
   },
   "name": "python3"
  },
  "language_info": {
   "codemirror_mode": {
    "name": "ipython",
    "version": 3
   },
   "file_extension": ".py",
   "mimetype": "text/x-python",
   "name": "python",
   "nbconvert_exporter": "python",
   "pygments_lexer": "ipython3",
   "version": "3.8.2"
  },
  "orig_nbformat": 2
 },
 "nbformat": 4,
 "nbformat_minor": 2
}