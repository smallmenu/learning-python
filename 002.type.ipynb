{
 "metadata": {
  "language_info": {
   "codemirror_mode": {
    "name": "ipython",
    "version": 3
   },
   "file_extension": ".py",
   "mimetype": "text/x-python",
   "name": "python",
   "nbconvert_exporter": "python",
   "pygments_lexer": "ipython3",
   "version": "3.8.2-final"
  },
  "orig_nbformat": 2,
  "kernelspec": {
   "name": "python3",
   "display_name": "Python 3.8.2 64-bit",
   "metadata": {
    "interpreter": {
     "hash": "31f2aee4e71d21fbe5cf8b01ff0e069b9275f58929596ceb00d14d90e3e16cd6"
    }
   }
  }
 },
 "nbformat": 4,
 "nbformat_minor": 2,
 "cells": [
  {
   "cell_type": "code",
   "execution_count": 1,
   "metadata": {
    "pycharm": {
     "name": "#%%\n"
    }
   },
   "outputs": [
    {
     "name": "stdout",
     "output_type": "stream",
     "text": [
      "<class 'NoneType'>\n",
      "<class 'int'>\n",
      "<class 'bool'>\n",
      "<class 'str'>\n",
      "<class 'list'>\n",
      "<class 'dict'>\n",
      "True\n",
      "True\n",
      "True\n",
      "True\n",
      "True\n"
     ]
    }
   ],
   "source": [
    "i = 100\n",
    "b = True\n",
    "s = 'abc'\n",
    "list1 = ['a', 'b', 'c']\n",
    "dict1 = {\n",
    "    'k1' : 'v1', \n",
    "    'k2' : 'v2'\n",
    "}\n",
    "\n",
    "print(type(None))\n",
    "print(type(i))\n",
    "print(type(b))\n",
    "print(type(s))\n",
    "print(type(list1))\n",
    "print(type(dict1))\n",
    "\n",
    "print(isinstance(i, int))\n",
    "print(isinstance(b, bool))\n",
    "print(isinstance(s, str))\n",
    "print(isinstance(list1, list))\n",
    "print(isinstance(dict1, dict))"
   ]
  },
  {
   "cell_type": "code",
   "execution_count": null,
   "metadata": {
    "pycharm": {
     "name": "#%%\n"
    }
   },
   "outputs": [],
   "source": []
  }
 ]
}