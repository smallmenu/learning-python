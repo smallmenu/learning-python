{
 "cells": [
  {
   "cell_type": "code",
   "execution_count": 1,
   "metadata": {
    "pycharm": {
     "name": "#%%\n"
    }
   },
   "outputs": [
    {
     "name": "stdout",
     "output_type": "stream",
     "text": [
      "<class 'NoneType'>\n",
      "<class 'int'>\n",
      "<class 'bool'>\n",
      "<class 'str'>\n",
      "<class 'list'>\n",
      "<class 'dict'>\n",
      "True\n",
      "True\n",
      "True\n",
      "True\n",
      "True\n"
     ]
    }
   ],
   "source": [
    "# 检查类型和判断类型\n",
    "i = 100\n",
    "b = True\n",
    "s = 'abc'\n",
    "list1 = ['a', 'b', 'c']\n",
    "dict1 = {\n",
    "    'k1' : 'v1', \n",
    "    'k2' : 'v2'\n",
    "}\n",
    "\n",
    "print(type(None))\n",
    "print(type(i))\n",
    "print(type(b))\n",
    "print(type(s))\n",
    "print(type(list1))\n",
    "print(type(dict1))\n",
    "\n",
    "print(isinstance(i, int))\n",
    "print(isinstance(b, bool))\n",
    "print(isinstance(s, str))\n",
    "print(isinstance(list1, list))\n",
    "print(isinstance(dict1, dict))"
   ]
  },
  {
   "cell_type": "code",
   "execution_count": null,
   "metadata": {
    "pycharm": {
     "name": "#%%\n"
    }
   },
   "outputs": [],
   "source": []
  }
 ],
 "metadata": {
  "kernelspec": {
   "display_name": "Python 3",
   "language": "python",
   "name": "python3"
  },
  "language_info": {
   "codemirror_mode": {
    "name": "ipython",
    "version": 3
   },
   "file_extension": ".py",
   "mimetype": "text/x-python",
   "name": "python",
   "nbconvert_exporter": "python",
   "pygments_lexer": "ipython3",
   "version": "3.9.15 (main, Oct 11 2022, 22:25:13) \n[Clang 12.0.0 (clang-1200.0.32.29)]"
  },
  "orig_nbformat": 2,
  "vscode": {
   "interpreter": {
    "hash": "397704579725e15f5c7cb49fe5f0341eb7531c82d19f2c29d197e8b64ab5776b"
   }
  }
 },
 "nbformat": 4,
 "nbformat_minor": 2
}
