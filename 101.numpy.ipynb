{
 "cells": [
  {
   "cell_type": "code",
   "execution_count": 45,
   "metadata": {
    "pycharm": {
     "name": "#%%\n"
    }
   },
   "outputs": [
    {
     "name": "stdout",
     "output_type": "stream",
     "text": [
      "2\n",
      "(3, 4)\n",
      "12\n",
      "int64\n",
      "<class 'numpy.ndarray'>\n",
      "[15 18 21 24]\n"
     ]
    }
   ],
   "source": [
    "import numpy as np\n",
    "\n",
    "arr = np.array([\n",
    "    [1, 2, 3, 4],\n",
    "    [5, 6, 7, 8],\n",
    "    [9, 10, 11, 12]\n",
    "])\n",
    "\n",
    "# 轴，就是维度，这是个二维数组，有两个轴，可以想象成一个平面\n",
    "print(arr.ndim)\n",
    "\n",
    "# 维度其实是形状，返回的是 (3,4) 三行四列\n",
    "print(arr.shape)\n",
    "\n",
    "# 元素的总数，相当于 shape 乘积\n",
    "print(arr.size)\n",
    "\n",
    "# 描述元素类型\n",
    "print(arr.dtype)\n",
    "\n",
    "# arr 类型\n",
    "print(type(arr))\n",
    "\n",
    "# 0 表示计算每一列的和，1 表示计算每一行的和\n",
    "sums = arr.sum(axis=0)\n",
    "print(sums)"
   ]
  },
  {
   "cell_type": "code",
   "execution_count": 21,
   "metadata": {},
   "outputs": [
    {
     "data": {
      "text/plain": [
       "array([[1.+0.j, 2.+0.j],\n",
       "       [3.+0.j, 4.+0.j]])"
      ]
     },
     "execution_count": 21,
     "metadata": {},
     "output_type": "execute_result"
    }
   ],
   "source": [
    "# 创建时显式指定类型\n",
    "c = np.array([\n",
    "    [1,2], \n",
    "    [3,4]\n",
    "    ], dtype=complex)\n",
    "c"
   ]
  },
  {
   "cell_type": "code",
   "execution_count": 22,
   "metadata": {},
   "outputs": [
    {
     "data": {
      "text/plain": [
       "array([[0., 0., 0., 0.],\n",
       "       [0., 0., 0., 0.],\n",
       "       [0., 0., 0., 0.]])"
      ]
     },
     "execution_count": 22,
     "metadata": {},
     "output_type": "execute_result"
    }
   ],
   "source": [
    "# 创建一个由 0 组成的数组\n",
    "zero = np.zeros((3,4))\n",
    "zero"
   ]
  },
  {
   "cell_type": "code",
   "execution_count": 23,
   "metadata": {},
   "outputs": [
    {
     "data": {
      "text/plain": [
       "array([[1.5, 2. , 3. ],\n",
       "       [4. , 5. , 6. ]])"
      ]
     },
     "execution_count": 23,
     "metadata": {},
     "output_type": "execute_result"
    }
   ],
   "source": [
    "# 创建一个初始随机的数组\n",
    "empty = np.empty((2,3))\n",
    "empty"
   ]
  },
  {
   "cell_type": "code",
   "execution_count": 25,
   "metadata": {},
   "outputs": [
    {
     "data": {
      "text/plain": [
       "array([10, 15, 20, 25, 30, 35, 40, 45, 50, 55, 60, 65, 70, 75, 80, 85, 90,\n",
       "       95])"
      ]
     },
     "execution_count": 25,
     "metadata": {},
     "output_type": "execute_result"
    }
   ],
   "source": [
    "# 创建一个类似于 range 的数组\n",
    "r = np.arange(10, 100, 5)\n",
    "r"
   ]
  },
  {
   "cell_type": "code",
   "execution_count": 27,
   "metadata": {},
   "outputs": [
    {
     "data": {
      "text/plain": [
       "array([0.  , 0.25, 0.5 , 0.75, 1.  , 1.25, 1.5 , 1.75, 2.  ])"
      ]
     },
     "execution_count": 27,
     "metadata": {},
     "output_type": "execute_result"
    }
   ],
   "source": [
    "# 创建一个指定范围指定长度的数组\n",
    "l = np.linspace(0, 2, 9)\n",
    "l"
   ]
  },
  {
   "cell_type": "code",
   "execution_count": 35,
   "metadata": {},
   "outputs": [
    {
     "name": "stdout",
     "output_type": "stream",
     "text": [
      "[ 0  1  2  3  4  5  6  7  8  9 10 11]\n",
      "[[ 0  1  2  3]\n",
      " [ 4  5  6  7]\n",
      " [ 8  9 10 11]]\n",
      "[[[ 0  1  2  3]\n",
      "  [ 4  5  6  7]\n",
      "  [ 8  9 10 11]]\n",
      "\n",
      " [[12 13 14 15]\n",
      "  [16 17 18 19]\n",
      "  [20 21 22 23]]]\n"
     ]
    }
   ],
   "source": [
    "# 打印一维数组\n",
    "v1 = np.arange(12)\n",
    "print(v1)\n",
    "\n",
    "# 打印二维数组，三行四列\n",
    "v2 = np.arange(12).reshape(3,4)\n",
    "print(v2)\n",
    "\n",
    "v3 = np.arange(24).reshape(2,3,4)\n",
    "print(v3)"
   ]
  },
  {
   "cell_type": "code",
   "execution_count": 39,
   "metadata": {},
   "outputs": [
    {
     "name": "stdout",
     "output_type": "stream",
     "text": [
      "[20 30 40 50]\n",
      "[0 1 2 3]\n",
      "[20 31 42 53]\n",
      "[20 29 38 47]\n",
      "[0 1 4 9]\n",
      "[ True  True False False]\n"
     ]
    }
   ],
   "source": [
    "# 基本计算\n",
    "a = np.array([20, 30, 40, 50])\n",
    "b = np.arange(4)\n",
    "\n",
    "print(a)\n",
    "print(b)\n",
    "\n",
    "c = a + b\n",
    "d = a - b\n",
    "e = b ** 2\n",
    "f = a < 35\n",
    "\n",
    "print(c)\n",
    "print(d)\n",
    "print(e)\n",
    "print(f)\n"
   ]
  },
  {
   "cell_type": "code",
   "execution_count": 44,
   "metadata": {},
   "outputs": [
    {
     "name": "stdout",
     "output_type": "stream",
     "text": [
      "[[2 0]\n",
      " [0 4]]\n",
      "[[8 8]\n",
      " [3 4]]\n"
     ]
    }
   ],
   "source": [
    "a = np.array([\n",
    "    [1, 2],\n",
    "    [0, 1]\n",
    "])\n",
    "b = np.array([\n",
    "    [2, 0],\n",
    "    [3, 4]\n",
    "])\n",
    "\n",
    "# 元素运算乘积\n",
    "print(a * b)\n",
    "\n",
    "# 矩阵乘积\n",
    "print(a @ b)"
   ]
  },
  {
   "cell_type": "code",
   "execution_count": 48,
   "metadata": {},
   "outputs": [
    {
     "name": "stdout",
     "output_type": "stream",
     "text": [
      "[0.         1.         1.41421356]\n",
      "0\n"
     ]
    }
   ],
   "source": [
    "# 通函数\n",
    "a = np.arange(3)\n",
    "\n",
    "print(np.sqrt(a))\n",
    "\n",
    "print(np.min(a))"
   ]
  },
  {
   "cell_type": "code",
   "execution_count": 53,
   "metadata": {},
   "outputs": [
    {
     "name": "stdout",
     "output_type": "stream",
     "text": [
      "[0 1 2 3 4 5 6 7 8 9]\n",
      "2\n",
      "[2 3 4 5 6 7 8 9]\n",
      "23\n",
      "[ 1 11 21 31 41]\n"
     ]
    }
   ],
   "source": [
    "# 一维的数组可以直接进行索引和切片操作\n",
    "a = np.arange(10)\n",
    "\n",
    "print(a)\n",
    "\n",
    "print(a[2])\n",
    "\n",
    "print(a[2:])\n",
    "\n",
    "# 多维数组以逗号分隔\n",
    "b = np.array([\n",
    "    [ 0,  1,  2,  3],\n",
    "    [10, 11, 12, 13],\n",
    "    [20, 21, 22, 23],\n",
    "    [30, 31, 32, 33],\n",
    "    [40, 41, 42, 43]\n",
    "])\n",
    "\n",
    "# 表示第3行，第4列的元素\n",
    "print(b[2,3])\n",
    "\n",
    "# 表示第2列的所有元素\n",
    "print(b[0:5,1])"
   ]
  },
  {
   "cell_type": "code",
   "execution_count": 55,
   "metadata": {},
   "outputs": [
    {
     "name": "stdout",
     "output_type": "stream",
     "text": [
      "[0 1 2 3]\n",
      "[10 11 12 13]\n",
      "[20 21 22 23]\n",
      "[30 31 32 33]\n",
      "[40 41 42 43]\n",
      "0\n",
      "1\n",
      "2\n",
      "3\n",
      "10\n",
      "11\n",
      "12\n",
      "13\n",
      "20\n",
      "21\n",
      "22\n",
      "23\n",
      "30\n",
      "31\n",
      "32\n",
      "33\n",
      "40\n",
      "41\n",
      "42\n",
      "43\n"
     ]
    }
   ],
   "source": [
    "# 对多维数组进行迭代，相当于对第一个轴完成的（行）\n",
    "b = np.array([\n",
    "    [ 0,  1,  2,  3],\n",
    "    [10, 11, 12, 13],\n",
    "    [20, 21, 22, 23],\n",
    "    [30, 31, 32, 33],\n",
    "    [40, 41, 42, 43]\n",
    "])\n",
    "\n",
    "for row in b:\n",
    "    print(row)\n",
    "\n",
    "# 如果想对所有元素生效，则使用 flat 属性\n",
    "for e in b.flat:\n",
    "    print(e)    "
   ]
  },
  {
   "cell_type": "code",
   "execution_count": 76,
   "metadata": {},
   "outputs": [
    {
     "name": "stdout",
     "output_type": "stream",
     "text": [
      "[[3. 5. 7. 5.]\n",
      " [5. 9. 5. 8.]\n",
      " [3. 4. 1. 8.]]\n",
      "(3, 4)\n",
      "[3. 5. 7. 5. 5. 9. 5. 8. 3. 4. 1. 8.]\n",
      "[[3. 5.]\n",
      " [7. 5.]\n",
      " [5. 9.]\n",
      " [5. 8.]\n",
      " [3. 4.]\n",
      " [1. 8.]]\n",
      "[[3. 5. 3.]\n",
      " [5. 9. 4.]\n",
      " [7. 5. 1.]\n",
      " [5. 8. 8.]]\n",
      "(4, 3)\n"
     ]
    }
   ],
   "source": [
    "# np.random.random() 函数用于生成指定大小的随机浮点数数组。生成一个2行3列的随机浮点数数组\n",
    "a = np.floor(10 * np.random.random((3,4)))\n",
    "print(a)\n",
    "\n",
    "print(a.shape)\n",
    "\n",
    "# 打平\n",
    "print(a.ravel())\n",
    "\n",
    "# 改变矩阵的形状\n",
    "print(a.reshape(6,2))\n",
    "\n",
    "# 矩阵的转置，或 a.transpose()\n",
    "b = a.T\n",
    "print(b)\n",
    "print(b.shape)\n"
   ]
  }
 ],
 "metadata": {
  "kernelspec": {
   "display_name": "Python 3",
   "language": "python",
   "name": "python3"
  },
  "language_info": {
   "codemirror_mode": {
    "name": "ipython",
    "version": 3
   },
   "file_extension": ".py",
   "mimetype": "text/x-python",
   "name": "python",
   "nbconvert_exporter": "python",
   "pygments_lexer": "ipython3",
   "version": "3.10.8"
  },
  "orig_nbformat": 4,
  "vscode": {
   "interpreter": {
    "hash": "aee8b7b246df8f9039afb4144a1f6fd8d2ca17a180786b69acc140d282b71a49"
   }
  }
 },
 "nbformat": 4,
 "nbformat_minor": 2
}
