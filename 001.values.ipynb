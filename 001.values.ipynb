{
 "cells": [
  {
   "cell_type": "code",
   "execution_count": 1,
   "metadata": {
    "pycharm": {
     "name": "#%%\n"
    }
   },
   "outputs": [
    {
     "name": "stdout",
     "output_type": "stream",
     "text": [
      "23\n",
      "-2\n",
      "21\n",
      "10000000000\n"
     ]
    }
   ],
   "source": [
    "# Python 不区分 long 和 int，默认整数类型可以任意长\n",
    "int1 = 23\n",
    "int2 = -2\n",
    "int3 = int1 + int2\n",
    "\n",
    "# ** 表示乘方\n",
    "int4 = 2 ** 3\n",
    "\n",
    "# _ 下划线数字分割符，便于阅读\n",
    "int4 = 10_000_000_000\n",
    "\n",
    "print(int1)\n",
    "print(int2)\n",
    "print(int3)\n",
    "print(int4)"
   ]
  },
  {
   "cell_type": "code",
   "execution_count": 6,
   "metadata": {
    "collapsed": false,
    "pycharm": {
     "name": "#%%\n"
    }
   },
   "outputs": [
    {
     "name": "stdout",
     "output_type": "stream",
     "text": [
      "3.14\n",
      "3.0\n",
      "3.5\n",
      "2.3333333333333335\n",
      "2.3333333333333335\n",
      "3\n",
      "1\n"
     ]
    }
   ],
   "source": [
    "# Python3 会自动计算，Python2 中整数除法只会计算整数部分，因此 7/2 可以得到浮点数结果\n",
    "float1 = 3.14\n",
    "float2 = 6/2\n",
    "float3 = 7/2\n",
    "float4 = 7/3\n",
    "float5 = 7.0/3.0\n",
    "\n",
    "print(float1)\n",
    "print(float2)\n",
    "print(float3)\n",
    "print(float4)\n",
    "print(float5)\n",
    "\n",
    "## 双除号表示整除\n",
    "print(7 // 2)\n",
    "## 求余\n",
    "print(7 % 2)"
   ]
  },
  {
   "cell_type": "code",
   "execution_count": 3,
   "metadata": {
    "collapsed": false,
    "pycharm": {
     "name": "#%%\n"
    }
   },
   "outputs": [
    {
     "name": "stdout",
     "output_type": "stream",
     "text": [
      "True\n",
      "False\n",
      "False\n",
      "True\n",
      "False\n",
      "None\n"
     ]
    }
   ],
   "source": [
    "bool1 = True\n",
    "bool2 = False\n",
    "\n",
    "# None 是 Python 中特殊的空值\n",
    "none = None\n",
    "\n",
    "print(bool1)\n",
    "print(bool2)\n",
    "\n",
    "print(bool1 and bool2)\n",
    "print(bool1 or bool2)\n",
    "print(not bool1)\n",
    "\n",
    "print(none)"
   ]
  },
  {
   "cell_type": "code",
   "execution_count": 23,
   "metadata": {
    "collapsed": false,
    "pycharm": {
     "name": "#%%\n"
    }
   },
   "outputs": [
    {
     "name": "stdout",
     "output_type": "stream",
     "text": [
      "False\n",
      "False\n",
      "False\n",
      "True\n"
     ]
    }
   ],
   "source": [
    "i = 0\n",
    "f = 0.0\n",
    "s1 = ''\n",
    "s2 = ' '\n",
    "\n",
    "# 数值与字符串的判空\n",
    "if not i:\n",
    "    print(False)\n",
    "\n",
    "if not f:\n",
    "    print(False)\n",
    "\n",
    "if not s1:\n",
    "    print(False)\n",
    "\n",
    "if not s2.strip():\n",
    "    print(True)"
   ]
  },
  {
   "cell_type": "code",
   "execution_count": 4,
   "metadata": {
    "collapsed": false,
    "pycharm": {
     "name": "#%%\n"
    }
   },
   "outputs": [
    {
     "ename": "NameError",
     "evalue": "name 'val' is not defined",
     "output_type": "error",
     "traceback": [
      "\u001b[0;31m---------------------------------------------------------------------------\u001b[0m",
      "\u001b[0;31mNameError\u001b[0m                                 Traceback (most recent call last)",
      "Cell \u001b[0;32mIn [4], line 2\u001b[0m\n\u001b[1;32m      1\u001b[0m \u001b[38;5;66;03m# 变量需要定义，否则报错\u001b[39;00m\n\u001b[0;32m----> 2\u001b[0m \u001b[38;5;28mprint\u001b[39m(\u001b[43mval\u001b[49m)\n",
      "\u001b[0;31mNameError\u001b[0m: name 'val' is not defined"
     ]
    }
   ],
   "source": [
    "# 变量需要定义，否则报错\n",
    "print(val)"
   ]
  },
  {
   "cell_type": "code",
   "execution_count": 9,
   "metadata": {
    "collapsed": false,
    "pycharm": {
     "name": "#%%\n"
    }
   },
   "outputs": [],
   "source": []
  }
 ],
 "metadata": {
  "kernelspec": {
   "display_name": "Python 3",
   "language": "python",
   "name": "python3"
  },
  "language_info": {
   "name": "python",
   "version": "3.10.8 (main, Oct 13 2022, 10:19:13) [Clang 12.0.0 (clang-1200.0.32.29)]"
  },
  "orig_nbformat": 2,
  "vscode": {
   "interpreter": {
    "hash": "aee8b7b246df8f9039afb4144a1f6fd8d2ca17a180786b69acc140d282b71a49"
   }
  }
 },
 "nbformat": 4,
 "nbformat_minor": 2
}
