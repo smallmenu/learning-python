{
 "cells": [
  {
   "cell_type": "code",
   "execution_count": 1,
   "metadata": {
    "pycharm": {
     "name": "#%%\n"
    }
   },
   "outputs": [],
   "source": [
    "# Python 所有的类成员（包括数据成员）都是公共的\n",
    "# 只有一个例外，如果你使用数据成员以 双下划线__开头，被认为是私有变量。Python 会使用命名粉碎规则 (name-mangling) 作用于这个变量，并使其变为私有变量。\n",
    "# 惯例是使用单下划线_标识私有数据成员，注意这只是惯例标识。（意思是告诉别人，虽然我可以被访问，但是，请把我视为私有变量，不要随意访问，全凭自觉）\n",
    "class Person:\n",
    "\n",
    "    # 类变量，所有实例共享，类似类静态成员变量\n",
    "    total = 0\n",
    "\n",
    "    # 构造函数，name 属于普通成员变量\n",
    "    def __init__(self, name, address = 'test', private = 'private'):\n",
    "        self.name = name\n",
    "\n",
    "        # 规范化的私有成员\n",
    "        self._address = address\n",
    "        \n",
    "        # 私有成员\n",
    "        self.__private = private\n",
    "\n",
    "        # 属性默认值\n",
    "        self.age = 0\n",
    "\n",
    "        Person.total += 1\n",
    "\n",
    "    # 使用 del 语句\n",
    "    def __del__(self):\n",
    "        Person.total -= 1\n",
    "        print('del:{}, total:{}'.format(self.name, Person.total))\n",
    "\n",
    "    def get_name(self):\n",
    "        return self.name\n",
    "\n",
    "    def get_private(self):\n",
    "        return self.__get_private()\n",
    "\n",
    "    # 私有方法\n",
    "    def __get_private(self):\n",
    "        return self.__private     \n",
    "\n",
    "    # @classmethod 或 @staticmethod 注解，表示静态成员方法，即类方法\n",
    "    @staticmethod\n",
    "    def totals(): \n",
    "        return Person.total\n"
   ]
  },
  {
   "cell_type": "code",
   "execution_count": 2,
   "metadata": {
    "pycharm": {
     "name": "#%%\n"
    }
   },
   "outputs": [
    {
     "name": "stdout",
     "output_type": "stream",
     "text": [
      "<__main__.Person object at 0x108b7b250>\n",
      "<__main__.Person object at 0x108b7b1f0>\n",
      "{'name': 'zhangsan', '_address': 'test', '_Person__private': 'private', 'age': 0}\n",
      "zhangsan\n",
      "lisi\n",
      "2\n",
      "2\n",
      "2\n",
      "del:lisi, total:1\n",
      "zhangsan\n",
      "test\n",
      "private\n",
      "private\n"
     ]
    }
   ],
   "source": [
    "p1 = Person('zhangsan')\n",
    "p2 = Person('lisi')\n",
    "print(p1)\n",
    "print(p2)\n",
    "print(p1.__dict__)\n",
    "print(p1.get_name())\n",
    "print(p2.get_name())\n",
    "\n",
    "print(p1.totals())\n",
    "print(Person.totals())\n",
    "print(Person.total)\n",
    "\n",
    "del p2\n",
    "\n",
    "print(p1.name)\n",
    "print(p1._address)\n",
    "\n",
    "# 报错，因为是私有方法\n",
    "# print(p1.__private)\n",
    "\n",
    "# 奇葩，这样竟然就可以访问了\n",
    "print(p1._Person__private)\n",
    "\n",
    "# 可以这样访问\n",
    "print(p1.get_private())"
   ]
  },
  {
   "cell_type": "code",
   "execution_count": null,
   "metadata": {
    "pycharm": {
     "name": "#%%\n"
    }
   },
   "outputs": [],
   "source": []
  }
 ],
 "metadata": {
  "interpreter": {
   "hash": "31f2aee4e71d21fbe5cf8b01ff0e069b9275f58929596ceb00d14d90e3e16cd6"
  },
  "kernelspec": {
   "display_name": "Python 3.8.2 64-bit",
   "name": "python3"
  },
  "language_info": {
   "codemirror_mode": {
    "name": "ipython",
    "version": 3
   },
   "file_extension": ".py",
   "mimetype": "text/x-python",
   "name": "python",
   "nbconvert_exporter": "python",
   "pygments_lexer": "ipython3",
   "version": "3.8.2"
  },
  "orig_nbformat": 2
 },
 "nbformat": 4,
 "nbformat_minor": 2
}